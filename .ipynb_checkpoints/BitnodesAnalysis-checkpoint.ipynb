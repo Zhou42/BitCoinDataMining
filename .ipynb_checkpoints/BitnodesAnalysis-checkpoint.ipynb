{
 "cells": [
  {
   "cell_type": "code",
   "execution_count": 52,
   "metadata": {
    "collapsed": true
   },
   "outputs": [],
   "source": [
    "import requests\n",
    "import pprint\n",
    "import json\n",
    "import codecs\n",
    "import csv as csv "
   ]
  },
  {
   "cell_type": "code",
   "execution_count": 22,
   "metadata": {
    "collapsed": false
   },
   "outputs": [
    {
     "name": "stdout",
     "output_type": "stream",
     "text": [
      "<type 'dict'>\n",
      "latest_height\n",
      "timestamp\n",
      "nodes\n",
      "total_nodes\n",
      "420910\n"
     ]
    }
   ],
   "source": [
    "pp = pprint.PrettyPrinter(indent=4)\n",
    "\n",
    "def list_node(TIMESTAMP):\n",
    "    url = 'https://bitnodes.21.co/api/v1/snapshots/' + TIMESTAMP + '/'\n",
    "    response = requests.get(url)\n",
    "    data = response.json()\n",
    "#     IP = data[][0]\n",
    "    return data"
   ]
  },
  {
   "cell_type": "code",
   "execution_count": 26,
   "metadata": {
    "collapsed": false
   },
   "outputs": [],
   "source": [
    "# data is a dict\n",
    "data = list_node('latest')\n",
    "\n",
    "# explore data\n",
    "# print type(data)\n",
    "# for key in data:\n",
    "#     print key\n",
    "# <type 'dict'>\n",
    "# latest_height\n",
    "# timestamp\n",
    "# nodes\n",
    "# total_nodes"
   ]
  },
  {
   "cell_type": "code",
   "execution_count": 27,
   "metadata": {
    "collapsed": false
   },
   "outputs": [
    {
     "name": "stdout",
     "output_type": "stream",
     "text": [
      "<type 'dict'>\n"
     ]
    }
   ],
   "source": [
    "# latest_height, timestamp, total_nodes 都是只有一个值，nodes是一个\n",
    "# pp.pprint(data['node'])\n",
    "# print type(data['nodes'])"
   ]
  },
  {
   "cell_type": "code",
   "execution_count": 34,
   "metadata": {
    "collapsed": false
   },
   "outputs": [],
   "source": [
    "# for key in data['nodes']:\n",
    "#     print key"
   ]
  },
  {
   "cell_type": "code",
   "execution_count": 36,
   "metadata": {
    "collapsed": false
   },
   "outputs": [
    {
     "name": "stdout",
     "output_type": "stream",
     "text": [
      "[70012, u'/Satoshi:0.12.1/', 1468548853, 5, 420910, u'dvorak.csail.mit.edu', u'Cambridge', u'US', 42.3646, -71.1028, u'America/New_York', u'AS3', u'Massachusetts Institute of Technology']\n",
      "42.3646\n",
      "-71.1028\n",
      "Massachusetts Institute of Technology\n"
     ]
    }
   ],
   "source": [
    "# 42°21'52.6\"N 71°06'10.1\"W 也就是说 idx 8为纬度，index 9为经度\n",
    "# 42.3646\n",
    "# -71.1028\n",
    "# print data['nodes']['128.30.92.69:8333']\n",
    "# # 以下三个数据给map显示用，写入where.js即可\n",
    "# print data['nodes']['128.30.92.69:8333'][8]\n",
    "# print data['nodes']['128.30.92.69:8333'][9]\n",
    "# print data['nodes']['128.30.92.69:8333'][-3]"
   ]
  },
  {
   "cell_type": "markdown",
   "metadata": {},
   "source": [
    "# write the locations of the nodes to file: js, csv"
   ]
  },
  {
   "cell_type": "code",
   "execution_count": 54,
   "metadata": {
    "collapsed": false
   },
   "outputs": [],
   "source": [
    "# js file\n",
    "fhand = codecs.open('./geodata/where.js','w', \"utf-8\")\n",
    "fhand.write(\"myData = [\\n\")\n",
    "\n",
    "# create saved csv file\n",
    "node_worldwide_data_file = open(\"node_worldwide_data.csv\", \"wb\")\n",
    "node_worldwide_data_w = csv.writer(node_worldwide_data_file)\n",
    "node_worldwide_data_w.writerow(['lat', 'lon', 'city', 'country'])\n",
    "\n",
    "for key in data['nodes']:\n",
    "    lat = data['nodes'][key][8]\n",
    "    lng = data['nodes'][key][9]\n",
    "    where = data['nodes'][key][-3]\n",
    "    \n",
    "    city = data['nodes'][key][-3]\n",
    "    country = data['nodes'][key][7]\n",
    "    try:\n",
    "        # print where, lat, lng\n",
    "        fhand.write(\",\\n\")\n",
    "        output = \"[\"+str(lat)+\",\"+str(lng)+\", '\"+where+\"']\"\n",
    "        node_worldwide_data_w.writerow([lat, lng, city, country])\n",
    "        fhand.write(output)\n",
    "    except:\n",
    "        continue\n",
    "        \n",
    "fhand.write(\"\\n];\\n\")\n",
    "fhand.close()\n",
    "node_local_data_file.close()"
   ]
  },
  {
   "cell_type": "code",
   "execution_count": null,
   "metadata": {
    "collapsed": true
   },
   "outputs": [],
   "source": []
  }
 ],
 "metadata": {
  "kernelspec": {
   "display_name": "Python 2",
   "language": "python",
   "name": "python2"
  },
  "language_info": {
   "codemirror_mode": {
    "name": "ipython",
    "version": 2
   },
   "file_extension": ".py",
   "mimetype": "text/x-python",
   "name": "python",
   "nbconvert_exporter": "python",
   "pygments_lexer": "ipython2",
   "version": "2.7.12"
  }
 },
 "nbformat": 4,
 "nbformat_minor": 0
}
